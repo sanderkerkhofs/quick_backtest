{
 "cells": [
  {
   "cell_type": "code",
   "execution_count": 46,
   "metadata": {},
   "outputs": [],
   "source": [
    "# needed imports\n",
    "from flask import Flask, render_template, request, jsonify\n",
    "from sqlmodel import SQLModel, Field, create_engine, Session\n",
    "from typing import Optional\n",
    "import uuid\n",
    "import hashlib\n",
    "from module import check_strategy_timeframe, list_strategy_folder, download_data, run_backtest, read_latest_backtest\n",
    "from models import TradeData, BacktestData\n",
    "from config import * \n",
    "# extra imports\n",
    "from pprint import pprint\n",
    "import pandas as pd\n",
    "import sqlite3\n"
   ]
  },
  {
   "cell_type": "code",
   "execution_count": 47,
   "metadata": {},
   "outputs": [],
   "source": [
    "unique_id = uuid.uuid4().hex[:16]\n",
    "data_hash = \"test_hash\""
   ]
  },
  {
   "cell_type": "code",
   "execution_count": 48,
   "metadata": {},
   "outputs": [
    {
     "name": "stdout",
     "output_type": "stream",
     "text": [
      "Skipped fields: {'pairlist': ['ATOM/USDT'], 'minimal_roi': {'0': 0.01}}\n"
     ]
    }
   ],
   "source": [
    "# Read latest backtest\n",
    "backtest_dict = read_latest_backtest(results_dir=LOCAL_RESULTS_DIR, backtest_uuid=unique_id, backtest_hash=data_hash)\n",
    "# pprint(backtest_data)\n",
    "\n",
    "# Filter out fields with unsupported types\n",
    "backtest_data = {k: v for k, v in backtest_dict.items() if not isinstance(v, (list, dict))}\n",
    "\n",
    "# Filter out fields with unsupported types\n",
    "skipped_fields = {k: v for k, v in backtest_dict.items() if isinstance(v, (list, dict))}\n",
    "\n",
    "if skipped_fields:\n",
    "    print(\"Skipped fields:\", skipped_fields)\n"
   ]
  },
  {
   "cell_type": "code",
   "execution_count": 49,
   "metadata": {},
   "outputs": [],
   "source": [
    "# Create the database engine\n",
    "engine = create_engine(\"sqlite:///backtest_data_sqlmodel.db\")\n",
    "\n",
    "# Create the database tables\n",
    "SQLModel.metadata.create_all(engine)\n",
    "\n",
    "\n",
    "# Create a BacktestData instance\n",
    "backtest_instance = BacktestData(**backtest_data)\n",
    "\n",
    "# Insert the data into the database\n",
    "with Session(engine) as session:\n",
    "    session.add(backtest_instance)\n",
    "    session.commit()"
   ]
  }
 ],
 "metadata": {
  "kernelspec": {
   "display_name": "base",
   "language": "python",
   "name": "python3"
  },
  "language_info": {
   "codemirror_mode": {
    "name": "ipython",
    "version": 3
   },
   "file_extension": ".py",
   "mimetype": "text/x-python",
   "name": "python",
   "nbconvert_exporter": "python",
   "pygments_lexer": "ipython3",
   "version": "3.12.3"
  }
 },
 "nbformat": 4,
 "nbformat_minor": 2
}
