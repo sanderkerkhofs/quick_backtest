{
 "cells": [
  {
   "cell_type": "code",
   "execution_count": 14,
   "metadata": {},
   "outputs": [],
   "source": [
    "from module import check_strategy_timeframe, list_strategy_folder, download_data, run_backtest, read_latest_backtest\n",
    "import json\n",
    "from config import * \n",
    "from pprint import pprint\n",
    "import uuid\n",
    "import hashlib"
   ]
  },
  {
   "cell_type": "code",
   "execution_count": 15,
   "metadata": {},
   "outputs": [],
   "source": [
    "def convert_nested_data(data):\n",
    "    if isinstance(data, dict):\n",
    "        return {key: convert_nested_data(value) for key, value in data.items()}\n",
    "    elif isinstance(data, list):\n",
    "        return json.dumps(data)  # Convert list to string using json.dumps\n",
    "    else:\n",
    "        return data  # Return the value as is if it's neither a list nor a dict"
   ]
  },
  {
   "cell_type": "code",
   "execution_count": 16,
   "metadata": {},
   "outputs": [],
   "source": [
    "unique_id = uuid.uuid4().hex[:16]\n",
    "data_hash = \"test_hash\""
   ]
  },
  {
   "cell_type": "code",
   "execution_count": 17,
   "metadata": {},
   "outputs": [],
   "source": [
    "backtest_dict = read_latest_backtest(results_dir=LOCAL_RESULTS_DIR, backtest_uuid=unique_id, backtest_hash=data_hash)"
   ]
  },
  {
   "cell_type": "code",
   "execution_count": 18,
   "metadata": {},
   "outputs": [
    {
     "name": "stdout",
     "output_type": "stream",
     "text": [
      "{'avg_stake_amount': 322.74279375,\n",
      " 'backtest_best_day': 0.04995004995004995,\n",
      " 'backtest_best_day_abs': 16.6006073,\n",
      " 'backtest_days': 100,\n",
      " 'backtest_end': '2024-11-10 00:00:00',\n",
      " 'backtest_end_ts': 1731196800000,\n",
      " 'backtest_hash': 'test_hash',\n",
      " 'backtest_run_end_ts': 1735086854,\n",
      " 'backtest_run_start_ts': 1735086854,\n",
      " 'backtest_start': '2024-08-01 20:00:00',\n",
      " 'backtest_start_ts': 1722542400000,\n",
      " 'backtest_strategy': 'ADXMomentum',\n",
      " 'backtest_uuid': 'a196f78a6a5c4828',\n",
      " 'backtest_worst_day': -0.1514581309101857,\n",
      " 'backtest_worst_day_abs': -50.83501965,\n",
      " 'cagr': -0.11032003869702522,\n",
      " 'calmar': -7.179484938654267,\n",
      " 'canceled_entry_orders': 0,\n",
      " 'canceled_trade_entries': 0,\n",
      " 'csum_max': 1016.17060032,\n",
      " 'csum_min': 930.94276445,\n",
      " 'draw_days': 60,\n",
      " 'drawdown_end': '2024-10-26 02:00:00',\n",
      " 'drawdown_end_ts': 1729908000000.0,\n",
      " 'drawdown_start': '2024-08-24 19:00:00',\n",
      " 'drawdown_start_ts': 1724526000000.0,\n",
      " 'draws': 0,\n",
      " 'dry_run_wallet': 1000,\n",
      " 'enable_protections': False,\n",
      " 'exit_profit_offset': 0.0,\n",
      " 'exit_profit_only': False,\n",
      " 'expectancy': -0.5628253687500004,\n",
      " 'expectancy_ratio': -0.027702681000125517,\n",
      " 'final_balance': 968.48177935,\n",
      " 'holding_avg': '15:11:00',\n",
      " 'holding_avg_s': 54660.0,\n",
      " 'ignore_roi_if_entry_signal': False,\n",
      " 'loser_holding_avg': '1 day, 19:27:00',\n",
      " 'loser_holding_avg_s': 156420.0,\n",
      " 'losing_days': 9,\n",
      " 'losses': 9,\n",
      " 'market_change': -0.19218963165075031,\n",
      " 'max_consecutive_losses': 2,\n",
      " 'max_consecutive_wins': 12,\n",
      " 'max_drawdown_abs': 85.22783587,\n",
      " 'max_drawdown_account': 0.08387158203864688,\n",
      " 'max_drawdown_high': 16.17060032,\n",
      " 'max_drawdown_low': -69.05723555,\n",
      " 'max_open_trades': 1,\n",
      " 'max_open_trades_setting': 3,\n",
      " 'max_relative_drawdown': 0.08387158203864688,\n",
      " 'minimal_roi': {'0': 0.01},\n",
      " 'pairlist': '[\"ATOM/USDT\"]',\n",
      " 'profit_factor': 0.8276277626658849,\n",
      " 'profit_mean': -0.001576466925801266,\n",
      " 'profit_median': 0.00999000999000999,\n",
      " 'profit_total': -0.031518220650000005,\n",
      " 'profit_total_abs': -31.518220650000004,\n",
      " 'profit_total_long': -0.031518220650000005,\n",
      " 'profit_total_long_abs': -31.518220650000004,\n",
      " 'profit_total_short': 0.0,\n",
      " 'profit_total_short_abs': 0.0,\n",
      " 'rejected_signals': 0,\n",
      " 'replaced_entry_orders': 0,\n",
      " 'sharpe': -0.6043536322867119,\n",
      " 'sortino': -0.48722110184909057,\n",
      " 'stake_amount': 'unlimited',\n",
      " 'stake_currency': 'USDT',\n",
      " 'stake_currency_decimals': 3,\n",
      " 'starting_balance': 1000,\n",
      " 'stoploss': -0.25,\n",
      " 'strategy_name': 'ADXMomentum',\n",
      " 'timedout_entry_orders': 0,\n",
      " 'timedout_exit_orders': 0,\n",
      " 'timeframe': '1h',\n",
      " 'timeframe_detail': '',\n",
      " 'timerange': '20240801-20241110',\n",
      " 'total_trades': 56,\n",
      " 'total_volume': 18073.596449999997,\n",
      " 'trade_count_long': 56,\n",
      " 'trade_count_short': 0,\n",
      " 'trades_per_day': 0.56,\n",
      " 'trailing_only_offset_is_reached': False,\n",
      " 'trailing_stop': False,\n",
      " 'trailing_stop_positive': None,\n",
      " 'trailing_stop_positive_offset': 0.0,\n",
      " 'use_custom_stoploss': False,\n",
      " 'use_exit_signal': True,\n",
      " 'winner_holding_avg': '9:46:00',\n",
      " 'winner_holding_avg_s': 35160.0,\n",
      " 'winning_days': 22,\n",
      " 'winrate': 0.8392857142857143,\n",
      " 'wins': 47}\n"
     ]
    }
   ],
   "source": [
    "# Convert all nested dictionaries and lists to strings\n",
    "converted_data = convert_nested_data(backtest_dict)\n",
    "\n",
    "# Printing converted data\n",
    "pprint(converted_data)\n"
   ]
  }
 ],
 "metadata": {
  "kernelspec": {
   "display_name": "base",
   "language": "python",
   "name": "python3"
  },
  "language_info": {
   "codemirror_mode": {
    "name": "ipython",
    "version": 3
   },
   "file_extension": ".py",
   "mimetype": "text/x-python",
   "name": "python",
   "nbconvert_exporter": "python",
   "pygments_lexer": "ipython3",
   "version": "3.12.3"
  }
 },
 "nbformat": 4,
 "nbformat_minor": 2
}
