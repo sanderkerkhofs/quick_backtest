{
 "cells": [
  {
   "cell_type": "code",
   "execution_count": 47,
   "metadata": {},
   "outputs": [
    {
     "name": "stdout",
     "output_type": "stream",
     "text": [
      "Requirement already satisfied: numpy in c:\\users\\sande\\miniconda3\\lib\\site-packages (1.26.4)\n"
     ]
    }
   ],
   "source": [
    "!pip install numpy"
   ]
  },
  {
   "cell_type": "code",
   "execution_count": 48,
   "metadata": {},
   "outputs": [],
   "source": [
    "# Imports\n",
    "from flask import Flask, render_template, request, jsonify\n",
    "from sqlmodel import SQLModel, Field, create_engine, Session\n",
    "from typing import Optional\n",
    "import uuid\n",
    "import hashlib\n",
    "from pprint import pprint\n",
    "import pandas as pd\n",
    "import sqlite3\n",
    "from module import check_strategy_timeframe, list_strategy_folder, download_data, run_backtest, read_latest_backtest, filter_unsupported_fields\n",
    "from models import TradeData, BacktestData\n",
    "from config import LOCAL_RESULTS_DIR"
   ]
  },
  {
   "cell_type": "code",
   "execution_count": 49,
   "metadata": {},
   "outputs": [],
   "source": [
    "# Global variables\n",
    "unique_id = uuid.uuid4().hex[:16]  # Generate a unique identifier (first 16 chars)\n",
    "data_hash = \"test_hash\"  # This is a placeholder for an actual hash value"
   ]
  },
  {
   "cell_type": "code",
   "execution_count": 50,
   "metadata": {},
   "outputs": [],
   "source": [
    "backtest_data = read_latest_backtest(results_dir=LOCAL_RESULTS_DIR, backtest_uuid=unique_id, backtest_hash=data_hash)\n",
    "# backtest_data"
   ]
  },
  {
   "cell_type": "code",
   "execution_count": 51,
   "metadata": {},
   "outputs": [],
   "source": [
    "# Database setup\n",
    "# Create the SQLite engine and ensure the necessary tables exist\n",
    "engine = create_engine(\"sqlite:///backtest_data_sqlmodel.db\")\n",
    "SQLModel.metadata.create_all(engine)"
   ]
  },
  {
   "cell_type": "code",
   "execution_count": 52,
   "metadata": {},
   "outputs": [],
   "source": [
    "# Insert data into the database\n",
    "# Create an instance of BacktestData with the filtered backtest data\n",
    "backtest_instance = BacktestData(**backtest_data)\n",
    "\n",
    "# Use a session to insert the backtest data into the database\n",
    "with Session(engine) as session:\n",
    "    session.add(backtest_instance)\n",
    "    session.commit()"
   ]
  }
 ],
 "metadata": {
  "kernelspec": {
   "display_name": "base",
   "language": "python",
   "name": "python3"
  },
  "language_info": {
   "codemirror_mode": {
    "name": "ipython",
    "version": 3
   },
   "file_extension": ".py",
   "mimetype": "text/x-python",
   "name": "python",
   "nbconvert_exporter": "python",
   "pygments_lexer": "ipython3",
   "version": "3.12.3"
  }
 },
 "nbformat": 4,
 "nbformat_minor": 2
}
